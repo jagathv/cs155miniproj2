{
 "cells": [
  {
   "cell_type": "code",
   "execution_count": 2,
   "metadata": {},
   "outputs": [],
   "source": [
    "import numpy as np\n",
    "import surprise as surp\n",
    "import seaborn as sns\n",
    "from surprise import SVD\n",
    "from surprise import Dataset\n",
    "from surprise.model_selection import cross_validate\n",
    "from surprise.model_selection import train_test_split\n",
    "from surprise import accuracy\n",
    "from surprise import Reader"
   ]
  },
  {
   "cell_type": "code",
   "execution_count": 180,
   "metadata": {},
   "outputs": [
    {
     "name": "stdout",
     "output_type": "stream",
     "text": [
      "1682\n",
      "1678\n"
     ]
    }
   ],
   "source": [
    "Y_train = np.loadtxt('train.txt').astype(int)\n",
    "Y_test = np.loadtxt('test.txt').astype(int)\n",
    "print(np.max(Y_train[:,1]))\n",
    "print(np.max(Y_test[:,1]))"
   ]
  },
  {
   "cell_type": "code",
   "execution_count": 11,
   "metadata": {},
   "outputs": [
    {
     "data": {
      "text/plain": [
       "<matplotlib.axes._subplots.AxesSubplot at 0x122e3ab38>"
      ]
     },
     "execution_count": 11,
     "metadata": {},
     "output_type": "execute_result"
    },
    {
     "data": {
      "image/png": "[encoded data removed]",
      "text/plain": [
       "<Figure size 432x288 with 1 Axes>"
      ]
     },
     "metadata": {},
     "output_type": "display_data"
    }
   ],
   "source": [
    "data = np.loadtxt('data.txt')\n",
    "\n",
    "ratings = np.array(data[:, 2])\n",
    "sns.distplot(ratings, kde=0)"
   ]
  },
  {
   "cell_type": "code",
   "execution_count": 142,
   "metadata": {},
   "outputs": [],
   "source": [
    "reader = Reader(sep='\\t')\n",
    "\n",
    "data_load = Dataset.load_from_file('train.txt', reader)\n",
    "\n",
    "trainset = data_load.build_full_trainset()\n",
    "#algo = SVD(n_factors=20, reg_all=0.1, lr_all=.01)\n",
    "algo = SVD(n_factors=20)\n",
    "\n",
    "algo.fit(trainset)\n",
    "U = algo.pu\n",
    "V = algo.qi\n",
    "a = algo.bu\n",
    "b = algo.bi"
   ]
  },
  {
   "cell_type": "code",
   "execution_count": 122,
   "metadata": {},
   "outputs": [
    {
     "name": "stdout",
     "output_type": "stream",
     "text": [
      "(943,)\n",
      "(1668,)\n"
     ]
    }
   ],
   "source": [
    "print(a.shape)\n",
    "print(b.shape)"
   ]
  },
  {
   "cell_type": "code",
   "execution_count": 143,
   "metadata": {
    "scrolled": true
   },
   "outputs": [],
   "source": [
    "# print(a[:10])\n",
    "# print(b[:10])\n",
    "# print(a.shape)\n",
    "# print(b.shape)\n",
    "amat = np.array([list(a) for i in range(1668)])\n",
    "# print(amat.T)\n",
    "# print(amat.T.shape)\n",
    "bmat = np.array([list(b) for i in range(943)])\n",
    "# print(bmat)\n",
    "# print(bmat.shape)\n"
   ]
  },
  {
   "cell_type": "code",
   "execution_count": 144,
   "metadata": {},
   "outputs": [
    {
     "name": "stdout",
     "output_type": "stream",
     "text": [
      "(943, 20)\n",
      "(1668, 20)\n",
      "[[3.87956747 4.09987217 2.57092084 ... 3.28695517 3.34533109 3.34169172]\n",
      " [4.13420936 4.31312676 2.5276101  ... 3.50950391 3.53154843 3.46732894]\n",
      " [3.92019141 4.03993808 2.56026878 ... 3.35670585 3.43593758 3.3534576 ]\n",
      " ...\n",
      " [3.77666011 3.98634967 2.3536611  ... 3.08837105 3.14984571 3.17009439]\n",
      " [3.49805535 3.60383939 2.18966081 ... 2.83697488 2.7284757  2.86017859]\n",
      " [4.13492874 4.52238257 2.93914983 ... 3.73819345 3.80873908 3.68498172]]\n",
      "-0.21676810979701644\n",
      "5.838777605576734\n"
     ]
    }
   ],
   "source": [
    "mu = np.mean(Y_train[:,2])\n",
    "print(U.shape)\n",
    "print(V.shape)\n",
    "Y = (U@V.T + amat.T + bmat + np.full((943,1668), mu))\n",
    "print(Y)\n",
    "print(np.min(Y))\n",
    "print(np.max(Y))"
   ]
  },
  {
   "cell_type": "code",
   "execution_count": 145,
   "metadata": {},
   "outputs": [
    {
     "name": "stdout",
     "output_type": "stream",
     "text": [
      "[1349, 1363, 1458, 1541, 1561, 1576, 1579, 1581, 1606, 1633, 1651, 1666, 1667, 1678]\n"
     ]
    }
   ],
   "source": [
    "bad_movie_indices = []\n",
    "movie_indices = {}\n",
    "for i in range(1, 1683):\n",
    "    movie_indices[i] = False\n",
    "    \n",
    "for i in range(len(Y_train)):\n",
    "    movie_indices[Y_train[i, 1]] = True\n",
    "\n",
    "\n",
    "for i in range(1, 1683):\n",
    "    if movie_indices[i] == False:\n",
    "        bad_movie_indices.append(i)\n",
    "        \n",
    "bad_movie_indices2 = []\n",
    "movie_indices2 = {}\n",
    "for i in range(1, 1683):\n",
    "    movie_indices2[i] = False\n",
    "    \n",
    "for i in range(len(Y_test)):\n",
    "    movie_indices2[Y_test[i, 1]] = True\n",
    "\n",
    "for i in range(1, 1683):\n",
    "    if movie_indices2[i] == False:\n",
    "        bad_movie_indices2.append(i)\n",
    "        \n",
    "print(bad_movie_indices)              \n",
    "        \n",
    "#print(bad_movie_indices2)        "
   ]
  },
  {
   "cell_type": "code",
   "execution_count": 129,
   "metadata": {},
   "outputs": [
    {
     "name": "stdout",
     "output_type": "stream",
     "text": [
      "[ 0.2069999   0.0170579   0.1086641  -0.1941561   0.06803999 -0.01849915\n",
      "  0.15914248  0.14568169 -0.00716286 -0.13649337 -0.01892722 -0.24132824\n",
      "  0.21016232 -0.00203577 -0.05976506  0.01592877 -0.1123736  -0.14053913\n",
      " -0.01761981  0.0133105 ]\n"
     ]
    }
   ],
   "source": [
    "print(V[1567])"
   ]
  },
  {
   "cell_type": "code",
   "execution_count": 146,
   "metadata": {},
   "outputs": [
    {
     "name": "stdout",
     "output_type": "stream",
     "text": [
      "(1668, 20)\n",
      "(1669, 20)\n",
      "(1670, 20)\n",
      "(1671, 20)\n",
      "(1672, 20)\n",
      "(1673, 20)\n",
      "(1674, 20)\n",
      "(1675, 20)\n",
      "(1676, 20)\n",
      "(1677, 20)\n",
      "(1678, 20)\n",
      "(1679, 20)\n",
      "(1680, 20)\n",
      "(1681, 20)\n",
      "(1682, 20)\n",
      "[ 0.17256268 -0.01273853 -0.05570346  0.03689465  0.06584919 -0.03769048\n",
      "  0.05883852 -0.02991023  0.08778865 -0.18101506  0.03121451  0.09167226\n",
      "  0.10202898 -0.05090818  0.00339248 -0.05404793 -0.24010959 -0.12887011\n",
      "  0.01107676 -0.00139619]\n"
     ]
    }
   ],
   "source": [
    "zer = np.zeros(20)\n",
    "print(V.shape)\n",
    "for i in range(14):\n",
    "    V = np.insert(V, bad_movie_indices[i] - 1, zer, axis=0)\n",
    "    b = np.insert(b, bad_movie_indices[i] - 1, 0, axis=0)\n",
    "    print(V.shape)\n",
    "print(V[1572]) "
   ]
  },
  {
   "cell_type": "code",
   "execution_count": 147,
   "metadata": {},
   "outputs": [
    {
     "name": "stdout",
     "output_type": "stream",
     "text": [
      "(943, 20)\n",
      "(1682, 20)\n",
      "(943,)\n",
      "(1682,)\n",
      "(10000, 3)\n",
      "(943, 1668)\n"
     ]
    }
   ],
   "source": [
    "print(U.shape)\n",
    "print(V.shape)\n",
    "print(a.shape)\n",
    "print(b.shape)\n",
    "print(Y_test.shape)\n",
    "print(Y.shape)"
   ]
  },
  {
   "cell_type": "code",
   "execution_count": 177,
   "metadata": {},
   "outputs": [],
   "source": [
    "def get_err(U, V, Y, A, B, bias, mu, reg=0.0):\n",
    "    \"\"\"\n",
    "    Takes as input a matrix Y of triples (i, j, Y_ij) where i is the index of a user,\n",
    "    j is the index of a movie, and Y_ij is user i's rating of movie j and\n",
    "    user/movie matrices U and V.\n",
    "\n",
    "    Returns the mean regularized squared-error of predictions made by\n",
    "    estimating Y_{ij} as the dot product of the ith row of U and the jth column of V^T.\n",
    "    \"\"\"\n",
    "    if bias: \n",
    "        first_term = 0.5*reg*(np.linalg.norm(U, ord='fro')**2 + np.linalg.norm(V, ord='fro')**2 + np.linalg.norm(A)**2 + np.linalg.norm(B)**2)\n",
    "        second_term = 0\n",
    "        for index in range(len(Y)):\n",
    "            (i, j, Yij) = Y[index]\n",
    "            second_term += (0.5 * (Yij - (np.dot(U[i - 1], V[j - 1]) + A[i-1] + B[j-1] + mu))**2 )\n",
    "        return (first_term + second_term)/len(Y)\n",
    "    \n",
    "    else:\n",
    "        first_term = 0.5*reg*(np.linalg.norm(U, ord='fro')**2 + np.linalg.norm(V, ord='fro')**2)\n",
    "        second_term = 0\n",
    "        for index in range(len(Y)):\n",
    "            (i, j, Yij) = Y[index]\n",
    "            second_term += (0.5 * (Yij - (np.dot(U[i - 1], V[j - 1]))))\n",
    "        return (first_term + second_term)/len(Y)"
   ]
  },
  {
   "cell_type": "code",
   "execution_count": 179,
   "metadata": {},
   "outputs": [
    {
     "name": "stdout",
     "output_type": "stream",
     "text": [
      "0.7815989749051808\n"
     ]
    }
   ],
   "source": [
    "eout = get_err(U, V, Y_test, a,b, True, mu)\n",
    "print(eout)"
   ]
  },
  {
   "cell_type": "code",
   "execution_count": 187,
   "metadata": {},
   "outputs": [
    {
     "name": "stdout",
     "output_type": "stream",
     "text": [
      "Training model with k = 20, eta = 0.03, reg = 1\n",
      "Training model with k = 20, eta = 0.01, reg = 1\n",
      "Training model with k = 20, eta = 0.003, reg = 1\n",
      "Training model with k = 20, eta = 0.001, reg = 1\n",
      "Training model with k = 20, eta = 0.0003, reg = 1\n",
      "Training model with k = 20, eta = 0.03, reg = 3\n",
      "Training model with k = 20, eta = 0.01, reg = 3\n",
      "Training model with k = 20, eta = 0.003, reg = 3\n",
      "Training model with k = 20, eta = 0.001, reg = 3\n",
      "Training model with k = 20, eta = 0.0003, reg = 3\n",
      "Training model with k = 20, eta = 0.03, reg = 10\n",
      "Training model with k = 20, eta = 0.01, reg = 10\n",
      "Training model with k = 20, eta = 0.003, reg = 10\n",
      "Training model with k = 20, eta = 0.001, reg = 10\n",
      "Training model with k = 20, eta = 0.0003, reg = 10\n",
      "Training model with k = 20, eta = 0.03, reg = 30\n",
      "Training model with k = 20, eta = 0.01, reg = 30\n",
      "Training model with k = 20, eta = 0.003, reg = 30\n",
      "Training model with k = 20, eta = 0.001, reg = 30\n",
      "Training model with k = 20, eta = 0.0003, reg = 30\n",
      "Training model with k = 20, eta = 0.03, reg = 100\n",
      "Training model with k = 20, eta = 0.01, reg = 100\n",
      "Training model with k = 20, eta = 0.003, reg = 100\n",
      "Training model with k = 20, eta = 0.001, reg = 100\n",
      "Training model with k = 20, eta = 0.0003, reg = 100\n"
     ]
    }
   ],
   "source": [
    "Y_train = np.loadtxt('train.txt').astype(int)\n",
    "Y_test = np.loadtxt('test.txt').astype(int)\n",
    "mu = np.mean(Y_train[:,2])\n",
    "reader = Reader(sep='\\t')\n",
    "data_load = Dataset.load_from_file('train.txt', reader)\n",
    "trainset = data_load.build_full_trainset()\n",
    "\n",
    "\n",
    "k = 20\n",
    "regs = [10**-4, 3 * (10**-4), 10**-3, 3 * (10**-3), 10**-2, 3 * (10**-2), 10**-1, 3 * (10**-1), 1, 3, 10, 30, 100, 300]\n",
    "regs2 = [1, 3, 10, 30, 100]\n",
    "etas = [0.03, 0.01, 0.003, 0.001, 0.0003]  # learning rate\n",
    "E_outs = []\n",
    "\n",
    "bad_movie_indices = []\n",
    "movie_indices = {}\n",
    "for i in range(1, 1683):\n",
    "    movie_indices[i] = False\n",
    "    \n",
    "for i in range(len(Y_train)):\n",
    "    movie_indices[Y_train[i, 1]] = True\n",
    "\n",
    "\n",
    "for i in range(1, 1683):\n",
    "    if movie_indices[i] == False:\n",
    "        bad_movie_indices.append(i)\n",
    "        \n",
    "bias = True\n",
    "# Use to compute Ein and Eout\n",
    "for reg in regs2:\n",
    "    E_outs_for_lambda = []\n",
    "\n",
    "    for eta in etas:\n",
    "        print(\"Training model with k = %s, eta = %s, reg = %s\"%(k, eta, reg))\n",
    "        #U,V, e_in, A, B = train_model(M, N, k, eta, reg, Y_train, bias)\n",
    "\n",
    "        algo = SVD(n_factors=20, reg_all=reg, lr_all=eta)\n",
    "\n",
    "        algo.fit(trainset)\n",
    "        U = algo.pu\n",
    "        V = algo.qi\n",
    "        a = algo.bu\n",
    "        b = algo.bi\n",
    "        zer = np.zeros(20)\n",
    "        for i in range(14):\n",
    "            V = np.insert(V, bad_movie_indices[i] - 1, zer, axis=0)\n",
    "            b = np.insert(b, bad_movie_indices[i] - 1, 0, axis=0)\n",
    "\n",
    "        eout = get_err(U, V, Y_test, a,b, True, mu)\n",
    "        E_outs_for_lambda.append(eout)\n",
    "\n",
    "    E_outs.append(E_outs_for_lambda)\n",
    "    \n"
   ]
  },
  {
   "cell_type": "code",
   "execution_count": 188,
   "metadata": {},
   "outputs": [
    {
     "name": "stdout",
     "output_type": "stream",
     "text": [
      "[[0.6631677945653168, 0.6596119170582361, 0.6562710118966515, 0.6489417026773672, 0.638438681976918], [0.6329020618999902, 0.6305938640913279, 0.6308003326984057, 0.6311211541305163, 0.6307359935780402], [0.6285022376785441, 0.6270549185856609, 0.6269819456970651, 0.6274847298760535, 0.6283321854484982], [0.6299448314197618, 0.6290964733289398, 0.6288835307355424, 0.6289716848684809, 0.6292458448744724], [nan, 0.6303036064223623, 0.6302134473064332, 0.6301831384035997, 0.6302202956450131]]\n"
     ]
    }
   ],
   "source": [
    "print(E_outs)"
   ]
  },
  {
   "cell_type": "code",
   "execution_count": null,
   "metadata": {},
   "outputs": [],
   "source": [
    "#reg = 10, eta = .003"
   ]
  },
  {
   "cell_type": "code",
   "execution_count": 183,
   "metadata": {},
   "outputs": [
    {
     "name": "stdout",
     "output_type": "stream",
     "text": [
      "3.1115965959532215\n",
      "[772 313   5]\n"
     ]
    }
   ],
   "source": [
    "print(Y[771,312])\n",
    "print(Y_test[2])"
   ]
  },
  {
   "cell_type": "code",
   "execution_count": 3,
   "metadata": {},
   "outputs": [
    {
     "name": "stdout",
     "output_type": "stream",
     "text": [
      "Evaluating RMSE, MAE of algorithm SVD on 5 split(s).\n",
      "\n",
      "                  Fold 1  Fold 2  Fold 3  Fold 4  Fold 5  Mean    Std     \n",
      "RMSE (testset)    0.9348  0.9292  0.9303  0.9445  0.9422  0.9362  0.0062  \n",
      "MAE (testset)     0.7391  0.7333  0.7326  0.7430  0.7409  0.7378  0.0041  \n",
      "Fit time          4.15    3.93    4.07    3.96    4.12    4.05    0.09    \n",
      "Test time         0.12    0.16    0.15    0.12    0.16    0.14    0.02    \n"
     ]
    },
    {
     "data": {
      "text/plain": [
       "{'test_rmse': array([0.93482396, 0.92915288, 0.93030116, 0.94447262, 0.94224945]),\n",
       " 'test_mae': array([0.73909771, 0.73330086, 0.73263821, 0.74296981, 0.74085247]),\n",
       " 'fit_time': (4.1506571769714355,\n",
       "  3.928983211517334,\n",
       "  4.068084955215454,\n",
       "  3.9630918502807617,\n",
       "  4.118180751800537),\n",
       " 'test_time': (0.12432193756103516,\n",
       "  0.1621990203857422,\n",
       "  0.1530601978302002,\n",
       "  0.11680102348327637,\n",
       "  0.15660595893859863)}"
      ]
     },
     "execution_count": 3,
     "metadata": {},
     "output_type": "execute_result"
    }
   ],
   "source": [
    "# Load the movielens-100k dataset (download it if needed),\n",
    "data = Dataset.load_builtin('ml-100k')\n",
    "\n",
    "# We'll use the famous SVD algorithm.\n",
    "algo = SVD()\n",
    "\n",
    "# Run 5-fold cross-validation and print results\n",
    "cross_validate(algo, data, measures=['RMSE', 'MAE'], cv=5, verbose=True)"
   ]
  },
  {
   "cell_type": "code",
   "execution_count": 22,
   "metadata": {},
   "outputs": [
    {
     "name": "stdout",
     "output_type": "stream",
     "text": [
      "RMSE: 0.9320\n"
     ]
    },
    {
     "data": {
      "text/plain": [
       "0.9320481393241525"
      ]
     },
     "execution_count": 22,
     "metadata": {},
     "output_type": "execute_result"
    }
   ],
   "source": [
    "# Load the movielens-100k dataset (download it if needed),\n",
    "data = Dataset.load_builtin('ml-100k')\n",
    "\n",
    "# sample random trainset and testset\n",
    "# test set is made of 25% of the ratings.\n",
    "trainset, testset = train_test_split(data, test_size=.25)\n",
    "\n",
    "# We'll use the famous SVD algorithm.\n",
    "algo = SVD()\n",
    "\n",
    "# Train the algorithm on the trainset, and predict ratings for the testset\n",
    "algo.fit(trainset)\n",
    "predictions = algo.test(testset)\n",
    "\n",
    "# Then compute RMSE\n",
    "accuracy.rmse(predictions)"
   ]
  },
  {
   "cell_type": "code",
   "execution_count": null,
   "metadata": {},
   "outputs": [],
   "source": []
  }
 ],
 "metadata": {
  "kernelspec": {
   "display_name": "Python 3",
   "language": "python",
   "name": "python3"
  },
  "language_info": {
   "codemirror_mode": {
    "name": "ipython",
    "version": 3
   },
   "file_extension": ".py",
   "mimetype": "text/x-python",
   "name": "python",
   "nbconvert_exporter": "python",
   "pygments_lexer": "ipython3",
   "version": "3.7.0"
  }
 },
 "nbformat": 4,
 "nbformat_minor": 2
}
